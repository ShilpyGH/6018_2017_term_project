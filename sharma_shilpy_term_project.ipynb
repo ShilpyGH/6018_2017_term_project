{
 "cells": [
  {
   "cell_type": "markdown",
   "metadata": {
    "collapsed": true
   },
   "source": [
    "<h1>Chronic Kidney Disease (CKD) patients in MIMIC II</h1>\n",
    "\n",
    "<h3>Shilpy Sharma, Parveen Ghani, Anjali Nandwani </h3>\n",
    "\n",
    "<h4> BMI 6018 Fall 2017 Term Project</h4>\n",
    "<h3>Background:</h3>\n",
    "<p>This project explores the cohort of patient who has Chronic Kidney Disease (CKD) based  <br> \n",
    "    on the ICD 9 code associated with the patient's diagnosis and tracks their Serum Creatinine value.<br>\n",
    "    Project shows the visualization (venn diagram) of all the comorbidities associated with CKD patients in MIMIC II<br>       It has widgets to calculate the estimated Glomerular Filteration Rate (eGFR) based on MDRD equation.     \n",
    "</p>\n",
    "<h3>Project Goals:</h3>\n",
    "1.\tExtract all the patient with ICD 9 code for CKD:\n",
    "    <ul>\n",
    "        <li>unspecified - 585.9</li>\n",
    "        <li>Stage I - 585.1</li>\n",
    "        <li>Stage II (mild) - 585.2</li>\n",
    "        <li>Stage III (moderate) - 585.3</li>\n",
    "        <li>Stage IV (severe) - 585.4</li>\n",
    "        <li>Stage V - 585.5</li>\n",
    "        <li>End-Stage Renal Disease(ESRD) - 585.6</li>\n",
    "    </ul><br>\n",
    "\n",
    "2.\tExtract the patient's age, gender, ethnicity who has CKD.\n",
    "3.  Shows statistics of patient's ethnicity, age, gender and different kinds of CKDs.\n",
    "3.\tCalculates the mean age of all the CKD patients.\n",
    "4.  Widget to calculate the eGFR, by manually inputing the data.\n",
    "5.  Cleans the excel file extracted from MIMIC II by dropping the missing values.\n",
    "6.  Calculates the eGFR, automatically for all the patients based on their age, gender, ethnicity and serum creatinine value"
   ]
  },
  {
   "cell_type": "code",
   "execution_count": 1,
   "metadata": {
    "collapsed": true
   },
   "outputs": [],
   "source": [
    "%matplotlib inline"
   ]
  },
  {
   "cell_type": "code",
   "execution_count": 2,
   "metadata": {
    "collapsed": true
   },
   "outputs": [],
   "source": [
    "import pymysql\n",
    "import pandas as pd\n",
    "import numpy as np\n",
    "import re\n",
    "import matplotlib.pyplot as plt\n",
    "import ipywidgets as widgets"
   ]
  },
  {
   "cell_type": "code",
   "execution_count": 3,
   "metadata": {
    "collapsed": true
   },
   "outputs": [],
   "source": [
    "from ipywidgets import interact, interactive, fixed\n",
    "from IPython.display import display, clear_output, HTML\n",
    "\n",
    "from project import DiseaseFrame\n",
    "from project import calc_gfr"
   ]
  },
  {
   "cell_type": "code",
   "execution_count": 4,
   "metadata": {
    "collapsed": true
   },
   "outputs": [],
   "source": [
    "conn = pymysql.connect(host=\"mysql\",\n",
    "                       port=3306, user=\"jovyan\",\n",
    "                       passwd=getpass.getpass("Enter MySQL passwd"), db='mimic2')\n"
   ]
  },
  {
   "cell_type": "markdown",
   "metadata": {},
   "source": [
    "### Choose disease from the dropdown menu to create a venn diagram of the selected comorbidities for all the patients with a diagnosis of CKD"
   ]
  },
  {
   "cell_type": "code",
   "execution_count": 5,
   "metadata": {},
   "outputs": [
    {
     "data": {
      "application/vnd.jupyter.widget-view+json": {
       "model_id": "7f2dbcee86a34fcbb8dad06291ec16f6",
       "version_major": 2,
       "version_minor": 0
      },
      "text/plain": [
       "A Jupyter Widget"
      ]
     },
     "metadata": {},
     "output_type": "display_data"
    },
    {
     "data": {
      "application/vnd.jupyter.widget-view+json": {
       "model_id": "8ea7cd9e5ffb480e81df2fc8c4441c9d",
       "version_major": 2,
       "version_minor": 0
      },
      "text/plain": [
       "A Jupyter Widget"
      ]
     },
     "metadata": {},
     "output_type": "display_data"
    },
    {
     "data": {
      "application/vnd.jupyter.widget-view+json": {
       "model_id": "2e0dcef7b3da4b82aebc6743f66cd77c",
       "version_major": 2,
       "version_minor": 0
      },
      "text/plain": [
       "A Jupyter Widget"
      ]
     },
     "metadata": {},
     "output_type": "display_data"
    },
    {
     "data": {
      "application/vnd.jupyter.widget-view+json": {
       "model_id": "fe0b06afb6724c0aa9db24c23fbba3ed",
       "version_major": 2,
       "version_minor": 0
      },
      "text/plain": [
       "A Jupyter Widget"
      ]
     },
     "metadata": {},
     "output_type": "display_data"
    },
    {
     "data": {
      "image/png": "iVBORw0KGgoAAAANSUhEUgAAARoAAADuCAYAAADmx8gBAAAABHNCSVQICAgIfAhkiAAAAAlwSFlz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\nSUVORK5CYII=\n",
      "text/plain": [
       "<matplotlib.figure.Figure at 0x7fe758b03780>"
      ]
     },
     "metadata": {},
     "output_type": "display_data"
    }
   ],
   "source": [
    "test = DiseaseFrame(conn)\n",
    "test.get_dfs()\n",
    "\n",
    "disease1 = widgets.Dropdown(options=['Heart Failure', 'Diabetes', 'Hypertension', 'Obesity', 'Drug Abuse', 'Alcohol Abuse', 'Liver Disease'], value = 'Diabetes', description = 'disease:', disabled = False)\n",
    "disease2 = widgets.Dropdown(options=['Heart Failure', 'Diabetes', 'Hypertension', 'Obesity', 'Drug Abuse', 'Alcohol Abuse', 'Liver Disease'], value = 'Heart Failure', description = 'disease:', disabled = False)\n",
    "disease3 = widgets.Dropdown(options=['Heart Failure', 'Diabetes', 'Hypertension', 'Obesity', 'Drug Abuse', 'Alcohol Abuse', 'Liver Disease'], value = 'Hypertension', description = 'disease:', disabled = False)\n",
    "button = widgets.Button(description=\"Create Venn\")\n",
    "\n",
    "display(disease1, disease2, disease3, button)\n",
    "\n",
    "def on_button_clicked(b):\n",
    "    clear_output()\n",
    "    display(disease1, disease2, disease3, button)\n",
    "    tmp = test.create_venn(disease1.value, disease2.value, disease3.value)\n",
    "        \n",
    "\n",
    "button.on_click(on_button_clicked)"
   ]
  },
  {
   "cell_type": "code",
   "execution_count": 19,
   "metadata": {},
   "outputs": [
    {
     "data": {
      "application/vnd.jupyter.widget-view+json": {
       "model_id": "2ea92a1f405540d3bd27709a46552551",
       "version_major": 2,
       "version_minor": 0
      },
      "text/plain": [
       "A Jupyter Widget"
      ]
     },
     "metadata": {},
     "output_type": "display_data"
    },
    {
     "data": {
      "application/vnd.jupyter.widget-view+json": {
       "model_id": "11b1ec2212af4f569d2fd517db24217a",
       "version_major": 2,
       "version_minor": 0
      },
      "text/plain": [
       "A Jupyter Widget"
      ]
     },
     "metadata": {},
     "output_type": "display_data"
    },
    {
     "data": {
      "application/vnd.jupyter.widget-view+json": {
       "model_id": "1d06a45a315f40f3baa395550bcb6853",
       "version_major": 2,
       "version_minor": 0
      },
      "text/plain": [
       "A Jupyter Widget"
      ]
     },
     "metadata": {},
     "output_type": "display_data"
    },
    {
     "data": {
      "application/vnd.jupyter.widget-view+json": {
       "model_id": "293550c57854476fbdf1ea4afe114e23",
       "version_major": 2,
       "version_minor": 0
      },
      "text/plain": [
       "A Jupyter Widget"
      ]
     },
     "metadata": {},
     "output_type": "display_data"
    },
    {
     "data": {
      "application/vnd.jupyter.widget-view+json": {
       "model_id": "bb4e4865a9e947ba8f78607d328d6934",
       "version_major": 2,
       "version_minor": 0
      },
      "text/plain": [
       "A Jupyter Widget"
      ]
     },
     "metadata": {},
     "output_type": "display_data"
    },
    {
     "data": {
      "application/vnd.jupyter.widget-view+json": {
       "model_id": "db3eb9835a484ed88e6d93e8ceb3f72c",
       "version_major": 2,
       "version_minor": 0
      },
      "text/plain": [
       "A Jupyter Widget"
      ]
     },
     "metadata": {},
     "output_type": "display_data"
    },
    {
     "name": "stdout",
     "output_type": "stream",
     "text": [
      "31.96\n"
     ]
    }
   ],
   "source": [
    "caption = widgets.Label(value='Input followings to calculate Glomerular Filteration Rate (GFR)')\n",
    "\n",
    "scr = widgets.BoundedFloatText(value=2.0, min=0, max=5, step=0.1, description='Creatinine:', disabled=False)\n",
    "\n",
    "age = widgets.BoundedFloatText(value=50, min=1, max=90, step=1, description='Age:', disabled=False)\n",
    "\n",
    "gender = widgets.Dropdown(options=[' ', 'F', 'M'], value=' ', description='Gender:', disabled=False)\n",
    "\n",
    "ethnicity = widgets.Dropdown(options=[' ', 'Caucasian', 'African American', 'Asian', 'Others'], value=' ',\\\n",
    "                                description='Ethnicity:', disabled=False)\n",
    "\n",
    "button = widgets.Button(description=\"Calculate GFR\")\n",
    "\n",
    "\n",
    "display(caption, scr, age, gender, ethnicity, button)\n",
    "\n",
    "def on_button_clicked(b):\n",
    "    clear_output()   \n",
    "    display(caption, scr, age, gender, ethnicity, button)\n",
    "    print(calc_gfr(scr.value, age.value, gender.value, ethnicity.value))\n",
    "        \n",
    "\n",
    "button.on_click(on_button_clicked)"
   ]
  },
  {
   "cell_type": "markdown",
   "metadata": {},
   "source": [
    "## Query: Identifying CKD Patients by ICD9 Codes"
   ]
  },
  {
   "cell_type": "code",
   "execution_count": 7,
   "metadata": {},
   "outputs": [
    {
     "data": {
      "text/html": [
       "<div>\n",
       "<table border=\"1\" class=\"dataframe\">\n",
       "  <thead>\n",
       "    <tr style=\"text-align: right;\">\n",
       "      <th></th>\n",
       "      <th>COUNT(*)</th>\n",
       "    </tr>\n",
       "  </thead>\n",
       "  <tbody>\n",
       "    <tr>\n",
       "      <th>0</th>\n",
       "      <td>4000</td>\n",
       "    </tr>\n",
       "  </tbody>\n",
       "</table>\n",
       "</div>"
      ],
      "text/plain": [
       "   COUNT(*)\n",
       "0      4000"
      ]
     },
     "execution_count": 7,
     "metadata": {},
     "output_type": "execute_result"
    }
   ],
   "source": [
    "DiseaseFrame(conn).count_total_pt()"
   ]
  },
  {
   "cell_type": "code",
   "execution_count": 8,
   "metadata": {
    "collapsed": true
   },
   "outputs": [],
   "source": [
    "icd9_codes = DiseaseFrame(conn).count_icd9()"
   ]
  },
  {
   "cell_type": "markdown",
   "metadata": {},
   "source": [
    "<h4>There are 4000 total patients in MIMIC II database.  Out of 4000 patients, 328 patients have a diagnosis of CKD based on ICD9 codes.</h4>"
   ]
  },
  {
   "cell_type": "markdown",
   "metadata": {},
   "source": [
    "<h4> Since it is the ICU data, most diagnosis is either \"unspecified CKD\" or \"ESRD\".</h4>\n",
    "<p>Below is a bar graph showing the distribution each ICD9 codes for CKD</p>"
   ]
  },
  {
   "cell_type": "code",
   "execution_count": 9,
   "metadata": {},
   "outputs": [
    {
     "data": {
      "text/plain": [
       "<matplotlib.axes._subplots.AxesSubplot at 0x7fe76b2fec88>"
      ]
     },
     "execution_count": 9,
     "metadata": {},
     "output_type": "execute_result"
    },
    {
     "data": {
      "image/png": "iVBORw0KGgoAAAANSUhEUgAAAXoAAAEbCAYAAADUCE9vAAAABHNCSVQICAgIfAhkiAAAAAlwSFlz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\n",
      "text/plain": [
       "<matplotlib.figure.Figure at 0x7fe76b2fe470>"
      ]
     },
     "metadata": {},
     "output_type": "display_data"
    }
   ],
   "source": [
    "icd9_counts = icd9_codes[\"code\"].value_counts().to_frame(name=\"ICD9 Counts\")\n",
    "icd9_counts.sort_values(by=\"ICD9 Counts\")\n",
    "icd9_counts.plot(kind='bar', title ='Occurence of CKD based on ICD9 code')"
   ]
  },
  {
   "cell_type": "code",
   "execution_count": 10,
   "metadata": {},
   "outputs": [
    {
     "data": {
      "text/html": [
       "<div>\n",
       "<table border=\"1\" class=\"dataframe\">\n",
       "  <thead>\n",
       "    <tr style=\"text-align: right;\">\n",
       "      <th></th>\n",
       "      <th>itemid</th>\n",
       "      <th>COUNT(itemid)</th>\n",
       "    </tr>\n",
       "  </thead>\n",
       "  <tbody>\n",
       "    <tr>\n",
       "      <th>0</th>\n",
       "      <td>791</td>\n",
       "      <td>44843</td>\n",
       "    </tr>\n",
       "    <tr>\n",
       "      <th>1</th>\n",
       "      <td>1525</td>\n",
       "      <td>31855</td>\n",
       "    </tr>\n",
       "    <tr>\n",
       "      <th>2</th>\n",
       "      <td>3750</td>\n",
       "      <td>59</td>\n",
       "    </tr>\n",
       "  </tbody>\n",
       "</table>\n",
       "</div>"
      ],
      "text/plain": [
       "   itemid  COUNT(itemid)\n",
       "0     791          44843\n",
       "1    1525          31855\n",
       "2    3750             59"
      ]
     },
     "execution_count": 10,
     "metadata": {},
     "output_type": "execute_result"
    }
   ],
   "source": [
    "DiseaseFrame(conn).get_creatinine_count().head()"
   ]
  },
  {
   "cell_type": "markdown",
   "metadata": {},
   "source": [
    "<p> Only the below itemids are used in the charting for the creatinine values:\n",
    "<ul>\n",
    "    <li>791 - Creatinine (0-1.3) Chemistry </li>\n",
    "    <li>1525 - Creatinine Chemistry</li>\n",
    "    <li>3750 - Creatinine (0-0.7) Chemistry</li>\n",
    "</ul> \n",
    "</p>"
   ]
  },
  {
   "cell_type": "markdown",
   "metadata": {},
   "source": [
    "#### Look for the missing values of creatinine and drop the missing data"
   ]
  },
  {
   "cell_type": "code",
   "execution_count": 11,
   "metadata": {},
   "outputs": [
    {
     "data": {
      "text/plain": [
       "<bound method DiseaseFrame.get_all_creatinine_ckd_patient_cleaned of {}>"
      ]
     },
     "execution_count": 11,
     "metadata": {},
     "output_type": "execute_result"
    }
   ],
   "source": [
    "DiseaseFrame(conn).get_all_creatinine_ckd_patient_cleaned"
   ]
  },
  {
   "cell_type": "markdown",
   "metadata": {
    "collapsed": true
   },
   "source": [
    "#### We had total of 10361 rows for creatinine values, after dropping the missing values we have 10357 rows, (only 4 missing values for creatinine.)"
   ]
  },
  {
   "cell_type": "markdown",
   "metadata": {},
   "source": [
    "<h3> Reading in an extracted excel file from the MIMIC II database </h3>\n",
    "<p> Excel sheet has 2100 data for the randomly choosen patients with their <br>\n",
    "ID, gender, ethnicity, age, serum creatinine value and unit of Creatinine </p>"
   ]
  },
  {
   "cell_type": "code",
   "execution_count": 12,
   "metadata": {},
   "outputs": [
    {
     "data": {
      "text/html": [
       "<div>\n",
       "<table border=\"1\" class=\"dataframe\">\n",
       "  <thead>\n",
       "    <tr style=\"text-align: right;\">\n",
       "      <th></th>\n",
       "      <th>SUBJECT_ID</th>\n",
       "      <th>GENDER</th>\n",
       "      <th>ETHNICITY</th>\n",
       "      <th>AGE</th>\n",
       "      <th>VALUENUM</th>\n",
       "      <th>VALUEUOM</th>\n",
       "    </tr>\n",
       "  </thead>\n",
       "  <tbody>\n",
       "    <tr>\n",
       "      <th>0</th>\n",
       "      <td>249</td>\n",
       "      <td>F</td>\n",
       "      <td>WHITE</td>\n",
       "      <td>74</td>\n",
       "      <td>0.8</td>\n",
       "      <td>mg/dL</td>\n",
       "    </tr>\n",
       "    <tr>\n",
       "      <th>1</th>\n",
       "      <td>249</td>\n",
       "      <td>F</td>\n",
       "      <td>WHITE</td>\n",
       "      <td>74</td>\n",
       "      <td>0.7</td>\n",
       "      <td>mg/dL</td>\n",
       "    </tr>\n",
       "    <tr>\n",
       "      <th>2</th>\n",
       "      <td>249</td>\n",
       "      <td>F</td>\n",
       "      <td>WHITE</td>\n",
       "      <td>74</td>\n",
       "      <td>1.2</td>\n",
       "      <td>mg/dL</td>\n",
       "    </tr>\n",
       "    <tr>\n",
       "      <th>3</th>\n",
       "      <td>249</td>\n",
       "      <td>F</td>\n",
       "      <td>WHITE</td>\n",
       "      <td>74</td>\n",
       "      <td>1.3</td>\n",
       "      <td>mg/dL</td>\n",
       "    </tr>\n",
       "    <tr>\n",
       "      <th>4</th>\n",
       "      <td>249</td>\n",
       "      <td>F</td>\n",
       "      <td>WHITE</td>\n",
       "      <td>74</td>\n",
       "      <td>0.9</td>\n",
       "      <td>mg/dL</td>\n",
       "    </tr>\n",
       "  </tbody>\n",
       "</table>\n",
       "</div>"
      ],
      "text/plain": [
       "   SUBJECT_ID GENDER ETHNICITY  AGE  VALUENUM VALUEUOM\n",
       "0         249      F     WHITE   74       0.8    mg/dL\n",
       "1         249      F     WHITE   74       0.7    mg/dL\n",
       "2         249      F     WHITE   74       1.2    mg/dL\n",
       "3         249      F     WHITE   74       1.3    mg/dL\n",
       "4         249      F     WHITE   74       0.9    mg/dL"
      ]
     },
     "execution_count": 12,
     "metadata": {},
     "output_type": "execute_result"
    }
   ],
   "source": [
    "gfr_calc_info = pd.read_excel('gfr_calc_info.xlsx')\n",
    "gfr_calc_info.head()"
   ]
  },
  {
   "cell_type": "code",
   "execution_count": 13,
   "metadata": {},
   "outputs": [
    {
     "data": {
      "text/html": [
       "<div>\n",
       "<table border=\"1\" class=\"dataframe\">\n",
       "  <thead>\n",
       "    <tr style=\"text-align: right;\">\n",
       "      <th></th>\n",
       "      <th>SUBJECT_ID</th>\n",
       "      <th>GENDER</th>\n",
       "      <th>ETHNICITY</th>\n",
       "      <th>AGE</th>\n",
       "      <th>VALUENUM</th>\n",
       "    </tr>\n",
       "  </thead>\n",
       "  <tbody>\n",
       "    <tr>\n",
       "      <th>0</th>\n",
       "      <td>249</td>\n",
       "      <td>F</td>\n",
       "      <td>WHITE</td>\n",
       "      <td>74</td>\n",
       "      <td>0.8</td>\n",
       "    </tr>\n",
       "    <tr>\n",
       "      <th>1</th>\n",
       "      <td>249</td>\n",
       "      <td>F</td>\n",
       "      <td>WHITE</td>\n",
       "      <td>74</td>\n",
       "      <td>0.7</td>\n",
       "    </tr>\n",
       "    <tr>\n",
       "      <th>2</th>\n",
       "      <td>249</td>\n",
       "      <td>F</td>\n",
       "      <td>WHITE</td>\n",
       "      <td>74</td>\n",
       "      <td>1.2</td>\n",
       "    </tr>\n",
       "    <tr>\n",
       "      <th>3</th>\n",
       "      <td>249</td>\n",
       "      <td>F</td>\n",
       "      <td>WHITE</td>\n",
       "      <td>74</td>\n",
       "      <td>1.3</td>\n",
       "    </tr>\n",
       "    <tr>\n",
       "      <th>4</th>\n",
       "      <td>249</td>\n",
       "      <td>F</td>\n",
       "      <td>WHITE</td>\n",
       "      <td>74</td>\n",
       "      <td>0.9</td>\n",
       "    </tr>\n",
       "  </tbody>\n",
       "</table>\n",
       "</div>"
      ],
      "text/plain": [
       "   SUBJECT_ID GENDER ETHNICITY  AGE  VALUENUM\n",
       "0         249      F     WHITE   74       0.8\n",
       "1         249      F     WHITE   74       0.7\n",
       "2         249      F     WHITE   74       1.2\n",
       "3         249      F     WHITE   74       1.3\n",
       "4         249      F     WHITE   74       0.9"
      ]
     },
     "execution_count": 13,
     "metadata": {},
     "output_type": "execute_result"
    }
   ],
   "source": [
    "gfr_calc_info = gfr_calc_info.dropna()\n",
    "gfr_calc_info = gfr_calc_info.drop(['VALUEUOM'], axis=1)\n",
    "gfr_calc_info.head()"
   ]
  },
  {
   "cell_type": "code",
   "execution_count": 14,
   "metadata": {},
   "outputs": [
    {
     "data": {
      "text/html": [
       "<div>\n",
       "<table border=\"1\" class=\"dataframe\">\n",
       "  <thead>\n",
       "    <tr style=\"text-align: right;\">\n",
       "      <th></th>\n",
       "      <th>SUBJECT_ID</th>\n",
       "      <th>GENDER</th>\n",
       "      <th>ETHNICITY</th>\n",
       "      <th>AGE</th>\n",
       "      <th>VALUENUM</th>\n",
       "      <th>GFR</th>\n",
       "    </tr>\n",
       "  </thead>\n",
       "  <tbody>\n",
       "    <tr>\n",
       "      <th>0</th>\n",
       "      <td>249</td>\n",
       "      <td>F</td>\n",
       "      <td>WHITE</td>\n",
       "      <td>74</td>\n",
       "      <td>0.8</td>\n",
       "      <td>70.12</td>\n",
       "    </tr>\n",
       "    <tr>\n",
       "      <th>1</th>\n",
       "      <td>249</td>\n",
       "      <td>F</td>\n",
       "      <td>WHITE</td>\n",
       "      <td>74</td>\n",
       "      <td>0.7</td>\n",
       "      <td>81.80</td>\n",
       "    </tr>\n",
       "    <tr>\n",
       "      <th>2</th>\n",
       "      <td>249</td>\n",
       "      <td>F</td>\n",
       "      <td>WHITE</td>\n",
       "      <td>74</td>\n",
       "      <td>1.2</td>\n",
       "      <td>43.91</td>\n",
       "    </tr>\n",
       "    <tr>\n",
       "      <th>3</th>\n",
       "      <td>249</td>\n",
       "      <td>F</td>\n",
       "      <td>WHITE</td>\n",
       "      <td>74</td>\n",
       "      <td>1.3</td>\n",
       "      <td>40.04</td>\n",
       "    </tr>\n",
       "    <tr>\n",
       "      <th>4</th>\n",
       "      <td>249</td>\n",
       "      <td>F</td>\n",
       "      <td>WHITE</td>\n",
       "      <td>74</td>\n",
       "      <td>0.9</td>\n",
       "      <td>61.21</td>\n",
       "    </tr>\n",
       "  </tbody>\n",
       "</table>\n",
       "</div>"
      ],
      "text/plain": [
       "   SUBJECT_ID GENDER ETHNICITY  AGE  VALUENUM    GFR\n",
       "0         249      F     WHITE   74       0.8  70.12\n",
       "1         249      F     WHITE   74       0.7  81.80\n",
       "2         249      F     WHITE   74       1.2  43.91\n",
       "3         249      F     WHITE   74       1.3  40.04\n",
       "4         249      F     WHITE   74       0.9  61.21"
      ]
     },
     "execution_count": 14,
     "metadata": {},
     "output_type": "execute_result"
    }
   ],
   "source": [
    "lst_egfr = []\n",
    "for index, row in gfr_calc_info.iterrows():\n",
    "    lst_egfr.append(calc_gfr(row['VALUENUM'], row['AGE'], row['GENDER'], row['ETHNICITY']))\n",
    "\n",
    "gfr_calc_info['GFR'] = pd.Series(lst_egfr, index=gfr_calc_info.index)\n",
    "\n",
    "gfr_calc_info.head()"
   ]
  },
  {
   "cell_type": "markdown",
   "metadata": {},
   "source": [
    "### Finding mean age of CKD patients"
   ]
  },
  {
   "cell_type": "code",
   "execution_count": 15,
   "metadata": {},
   "outputs": [
    {
     "data": {
      "text/plain": [
       "74.22222222222223"
      ]
     },
     "execution_count": 15,
     "metadata": {},
     "output_type": "execute_result"
    }
   ],
   "source": [
    "DiseaseFrame(conn).get_mean_age()"
   ]
  },
  {
   "cell_type": "code",
   "execution_count": 16,
   "metadata": {},
   "outputs": [
    {
     "data": {
      "text/plain": [
       "<matplotlib.axes._subplots.AxesSubplot at 0x7fe76333d160>"
      ]
     },
     "execution_count": 16,
     "metadata": {},
     "output_type": "execute_result"
    },
    {
     "data": {
      "image/png": "iVBORw0KGgoAAAANSUhEUgAAAZIAAAD8CAYAAABdCyJkAAAABHNCSVQICAgIfAhkiAAAAAlwSFlz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\n",
      "text/plain": [
       "<matplotlib.figure.Figure at 0x7fe76b236160>"
      ]
     },
     "metadata": {},
     "output_type": "display_data"
    }
   ],
   "source": [
    "ckd_age = DiseaseFrame(conn).get_ckd_age()\n",
    "ckd_age.plot(kind='kde', xlim=[10, 110])"
   ]
  },
  {
   "cell_type": "code",
   "execution_count": 17,
   "metadata": {},
   "outputs": [
    {
     "data": {
      "text/plain": [
       "<matplotlib.axes._subplots.AxesSubplot at 0x7fe758bbe390>"
      ]
     },
     "execution_count": 17,
     "metadata": {},
     "output_type": "execute_result"
    },
    {
     "data": {
      "image/png": "iVBORw0KGgoAAAANSUhEUgAAAXoAAAEHCAYAAACgHI2PAAAABHNCSVQICAgIfAhkiAAAAAlwSFlz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\nEve/uK8DapgGkWwAAAAASUVORK5CYII=\n",
      "text/plain": [
       "<matplotlib.figure.Figure at 0x7fe758bb8860>"
      ]
     },
     "metadata": {},
     "output_type": "display_data"
    }
   ],
   "source": [
    "gender = DiseaseFrame(conn).get_patient_info() \n",
    "gender_counts = gender[\"sex\"].value_counts().to_frame(name=\"Gender Counts\")\n",
    "gender_counts.sort_values(by=\"Gender Counts\")\n",
    "gender_counts.plot(kind='bar', title=\"Occurence of CKD by Gender\")"
   ]
  },
  {
   "cell_type": "code",
   "execution_count": 18,
   "metadata": {},
   "outputs": [
    {
     "data": {
      "text/plain": [
       "<matplotlib.axes._subplots.AxesSubplot at 0x7fe758b47b00>"
      ]
     },
     "execution_count": 18,
     "metadata": {},
     "output_type": "execute_result"
    },
    {
     "data": {
      "image/png": "iVBORw0KGgoAAAANSUhEUgAAAXoAAAGGCAYAAAB18EryAAAABHNCSVQICAgIfAhkiAAAAAlwSFlz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\nmVnOOejNzHLOQW9mlnP/HyCdi0brk/XEAAAAAElFTkSuQmCC\n",
      "text/plain": [
       "<matplotlib.figure.Figure at 0x7fe758b4dfd0>"
      ]
     },
     "metadata": {},
     "output_type": "display_data"
    }
   ],
   "source": [
    "ethnicity = DiseaseFrame(conn).get_ckd_ethnictiy()\n",
    "ethnicity_counts = ethnicity[\"ethnicity_descr\"].value_counts().to_frame(name=\"Ethnicity Counts\")\n",
    "ethnicity_counts.sort_values(by=\"Ethnicity Counts\")\n",
    "ethnicity_counts.plot(kind='bar', title=\"Occurence of CKD by Ethnicity\")"
   ]
  },
  {
   "cell_type": "code",
   "execution_count": null,
   "metadata": {
    "collapsed": true
   },
   "outputs": [],
   "source": []
  }
 ],
 "metadata": {
  "kernelspec": {
   "display_name": "Python 3",
   "language": "python",
   "name": "python3"
  },
  "language_info": {
   "codemirror_mode": {
    "name": "ipython",
    "version": 3
   },
   "file_extension": ".py",
   "mimetype": "text/x-python",
   "name": "python",
   "nbconvert_exporter": "python",
   "pygments_lexer": "ipython3",
   "version": "3.5.2"
  }
 },
 "nbformat": 4,
 "nbformat_minor": 2
}
