
# coding: utf-8

# <h1>MIMIC II Project </h1>
# 
# <h3>Shilpy Sharma, Parveen Ghani, Anjali Nandwani </h3>
# 
# <h4> BMI 6018 Fall 2017 Term Project</h4>
# <h3>Background:</h3>
# <p>This project explores the cohort of patient who has Chronic Kidney Disease (CKD) based  <br> 
#     on the ICD 9 code associated with the patient and tracks their Serum Creatinine value.<br>
#     Project shows the visualization of the change in Serum Creatinine value over time<br>        
# </p>
# <h3>Project Goals:</h3>
# 1.	Extract all the patient with ICD 9 code for CKD:
#     <ul>
#         <li>unspecified - 585.9</li>
#         <li>Stage I - 585.1</li>
#         <li>Stage II (mild) - 585.2</li>
#         <li>Stage III (moderate) - 585.3</li>
#         <li>Stage IV (severe) - 585.4</li>
#         <li>Stage V - 585.5</li>
#         <li>End-Stage Renal Disease(ESRD) - 585.6</li>
#     </ul>
# 
# 2.	Extract the patient's age, gender, ethnicity who has CKD and shows statistics.
# 3.	Uses class for the lab values.

# In[1]:

get_ipython().magic('matplotlib inline')


# In[2]:

import pymysql
import pandas as pd
import pandas as pd
import seaborn as sns
import numpy as np
import re


# In[3]:

from ipywidgets import interact, interactive, fixed
from IPython.display import clear_output
import ipywidgets as widgets
import matplotlib.pyplot as plt


# In[4]:

conn = pymysql.connect(host="mysql",
                       port=3306,user="jovyan",
                       passwd="jovyan",db='mimic2')


# In[5]:

from project import DiseaseFrame

test = DiseaseFrame(conn)

test.get_dfs()


# In[6]:

import ipywidgets as widgets
from IPython.display import display, clear_output, HTML

from ipywidgets import interact, interactive, fixed


# In[7]:

disease1 = widgets.Dropdown(options=['Heart Failure', 'Diabetes', 'Hypertension', 'Obesity', 'Drug Abuse', 'Alcohol Abuse', 'Liver Disease'], value = 'Diabetes', description = 'disease:', disabled = False)
disease2 = widgets.Dropdown(options=['Heart Failure', 'Diabetes', 'Hypertension', 'Obesity', 'Drug Abuse', 'Alcohol Abuse', 'Liver Disease'], value = 'Heart Failure', description = 'disease:', disabled = False)
disease3 = widgets.Dropdown(options=['Heart Failure', 'Diabetes', 'Hypertension', 'Obesity', 'Drug Abuse', 'Alcohol Abuse', 'Liver Disease'], value = 'Hypertension', description = 'disease:', disabled = False)
button = widgets.Button(description="Create Venn")

display(disease1, disease2, disease3, button)

def on_button_clicked(b):
    clear_output()
    display(disease1, disease2, disease3, button)
    tmp = test.get_venn(disease1.value, disease2.value, disease3.value)
        

button.on_click(on_button_clicked)


# In[8]:

from project import calc_gfr

caption = widgets.Label(value='Input followings to calculate Glomerular Filteration Rate (GFR)')

scr = widgets.BoundedFloatText(value = 2.0, min = 0, max = 5, step = 0.1, description = 'Creatinine:', disabled = False)

age = widgets.BoundedFloatText(value = 50, min = 1, max = 90, step = 1, description = 'Age:', disabled = False)

gender = widgets.Dropdown(options=[' ', 'F', 'M'], value = ' ', description = 'Gender:', disabled = False)

ethnicity = widgets.Dropdown(options = [' ', 'Caucasian', 'African American', 'Asian', 'Others'], value = ' ',                                description = 'Ethnicity:', disabled = False)

button = widgets.Button(description="Calculate GFR")


display(caption, scr, age, gender, ethnicity, button)

def on_button_clicked(b):
    clear_output()   
    display(caption, scr, age, gender, ethnicity, button)
    print(calc_gfr(scr.value, age.value, gender.value, ethnicity.value))
        

button.on_click(on_button_clicked)


# ## Query: Identifying CKD Patients by ICD9 Codes

# In[11]:

from project import DiseaseFrame
DiseaseFrame(conn).count_total_pt()


# In[12]:

DiseaseFrame(conn).count_icd9()


# <h4>There are 4000 total patients in MIMIC II database.  Out of 4000 patients, 328 patients have a diagnosis of CKD based on ICD9 codes.</h4>
# <p>The description for the ICD9 codes are not available for all the CKD stages in MIMIC II database <br>
#    They have a description of "None".<br>
# </p>
# <h4> Below is the list of frequency of each diagnosis by the ICD9 codes.</h4>

# In[ ]:

# Add code to add description for the ICD9 code
icd9_codes["code"].value_counts(normalize=False)


# <h4> Since it is the ICU data, most diagnosis is either "unspecified CKD" or "ESRD".</h4>
# <p>Below is a bar graph showing the distribution each ICD9 codes for CKD</p>

# In[ ]:

icd9_counts = icd9_codes["code"].value_counts().to_frame(name="ICD9 Counts")
icd9_counts.sort_values(by="ICD9 Counts")
icd9_counts.plot(kind='bar', title ='Occurence of CKD')


# In[ ]:

subject_info = pd.read_sql(' SELECT subject_id, sex, dob FROM d_patients', conn)   


# In[ ]:

subject_info.head()


# In[ ]:

frequently_used_itemid_creat = pd.read_sql('SELECT itemid, COUNT(itemid) FROM chartevents WHERE itemid in (17, 791, 1129, 1525, 2975, 3750, 5525, 5811)             GROUP BY itemid', conn)


# In[ ]:

frequently_used_itemid_creat


# <p> Only the below itemids are used in the charting for the creatinine values:
# <ul>
#     <li>791 - Creatinine (0-1.3) Chemistry </li>
#     <li>1525 - Creatinine Chemistry</li>
#     <li>3750 - Creatinine (0-0.7) Chemistry</li>
# </ul> 
# </p>

# In[ ]:

creat_ckd = pd.read_sql('SELECT subject_id, itemid, charttime, value1num FROM chartevents WHERE itemid IN (17, 791, 1129, 1525, 2975, 3750, 5525, 5811)            AND subject_id IN (SELECT subject_id FROM icd9             WHERE code IN ("585.9", "585.1", "585.2", "585.3", "585.4", "585.5", "585.6" ))', conn)


# In[ ]:

creat_ckd.head()


# #### Look for the missing values of creatinine and drop the missing data

# In[ ]:

#Look for the missing values of creatinine and drop the missing data
creat_cleaned = creat_ckd.dropna()


# In[ ]:

creat_cleaned.head()


# #### We had total of 10361 rows for creatinine values, after dropping the missing values we have 10357 rows, (only 4 missing values for creatinine.)

# ### Making a venn diagram of all the comorbidities for all the patients with a diagnosis of CKD

# In[ ]:

##### deleted the code for the venn diagram and made it into a module.


# ### Creating functions

# In[ ]:

gfr_calc_info = pd.read_excel('gfr_calc_info.xlsx')


# In[ ]:

gfr_calc_info.head()


# In[ ]:

gfr_calc_info.dropna()


# ### Use regular expression to separate ethnicity if it is "BLACK/AFRICAN AMERICAN" to "AFRICAN AMERICAN"

# In[ ]:

def replace_black(excel_file):
    """
    This function replaces all the ethnicity that is maked "BLACK/AFRICAN AMERICAN" to "AFRICAN AMERICAN"
    Argument:  excel_file - to extract the column
    Returns: excel_file - with ethnicity replaced.
    """
    


# In[ ]:

from project import calc_gfr


# In[ ]:

lst_egfr = []
for index, row in gfr_calc_info.iterrows():
    lst_egfr.append(calc_gfr(row['VALUENUM'], row['AGE'], row['GENDER'], row['ETHNICITY']) )


# In[ ]:

lst_egfr


# In[ ]:

gfr_calc_info['GFR'] = pd.Series(lst_egfr, index=gfr_calc_info.index)


# In[ ]:

gfr_calc_info.head()


# ### Finding mean age of CKD patients

# In[ ]:

df_age = pd.read_sql('''
    SELECT FLOOR(DATEDIFF(dod, dob)/365) age_years, sex, subject_id
    from d_patients WHERE subject_id IN (SELECT DISTINCT(subject_id) FROM icd9 WHERE code IN \
                        ("585.9", "585.1", "585.2", "585.3", "585.4", "585.5", "585.6" ))
    ''',conn)

df_age.head()


# In[ ]:

def mean_age():
    avgAge = []
    for i in df_age:
        avgAge.append(df_age['age_years'])
    np.mean(avgAge)


# In[ ]:

df_age["age_years"].mean()


# In[ ]:

print(mean_age())


# In[ ]:

"""ASK"""

"""all_age = gfr_calc_info.drop('SUBJECT_ID', axis=1).drop('GENDER', axis=1).drop('ETHNICITY', axis=1).drop('VALUENUM', axis=1).drop('VALUEUOM', axis=1)
all_age """


def mean_age():
    """
    This function calculates the mean age of all the patients with 
    Chronic Kidney Disease from the "gfr_calc_info.xlsx" file.
    Arguments:
        data_file: source of data
    Returns: 
        Calculated mean of age        
    """
    gfr_calc_info2 = pd.read_excel('gfr_calc_info.xlsx')

    all_age = gfr_calc_info2['AGE']
    
    avgAge = []
    for i in all_age:
        avgAge.append(float(i))
    np.mean(avgAge)
    


# In[ ]:

print(mean_age())


# In[ ]:

avgLen = []
for word in report1.split():
    avgLen.append(len(word))
np.mean(avgLen)


# ### Widget

# In[ ]:

import ipywidgets as widgets
from IPython.display import display, clear_output, HTML

from ipywidgets import interact, interactive, fixed


# In[ ]:




# In[ ]:



