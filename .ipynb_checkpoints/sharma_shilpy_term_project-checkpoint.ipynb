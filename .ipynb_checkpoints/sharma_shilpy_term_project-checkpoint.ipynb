{
 "cells": [
  {
   "cell_type": "markdown",
   "metadata": {
    "collapsed": true
   },
   "source": [
    "<h1>Chronic Kidney Disease (CKD) patients in MIMIC II</h1>\n",
    "\n",
    "<h3>Shilpy Sharma </h3>\n",
    "\n",
    "<h4> BMI 6018 Fall 2017 Term Project</h4>\n",
    "<h3>Background:</h3>\n",
    "<p>This project explores the cohort of patient who has Chronic Kidney Disease (CKD) based  <br> \n",
    "    on the ICD 9 code associated with the patient's diagnosis and tracks their Serum Creatinine value.<br>\n",
    "    Project shows the visualization (venn diagram) of all the comorbidities associated with CKD patients in MIMIC II<br>       It has widgets to calculate the estimated Glomerular Filteration Rate (eGFR) based on MDRD equation.     \n",
    "</p>\n",
    "<h3>Project Goals:</h3>\n",
    "1.\tExtract all the patient with ICD 9 code for CKD:\n",
    "    <ul>\n",
    "        <li>unspecified - 585.9</li>\n",
    "        <li>Stage I - 585.1</li>\n",
    "        <li>Stage II (mild) - 585.2</li>\n",
    "        <li>Stage III (moderate) - 585.3</li>\n",
    "        <li>Stage IV (severe) - 585.4</li>\n",
    "        <li>Stage V - 585.5</li>\n",
    "        <li>End-Stage Renal Disease(ESRD) - 585.6</li>\n",
    "    </ul><br>\n",
    "\n",
    "2.\tExtract the patient's age, gender, ethnicity who has CKD.\n",
    "3.  Shows statistics of patient's ethnicity, age, gender and different kinds of CKDs.\n",
    "3.\tCalculates the mean age of all the CKD patients.\n",
    "4.  Widget to calculate the eGFR, by manually inputing the data.\n",
    "5.  Cleans the excel file extracted from MIMIC II by dropping the missing values.\n",
    "6.  Calculates the eGFR, automatically for all the patients based on their age, gender, ethnicity and serum creatinine value"
   ]
  },
  {
   "cell_type": "code",
   "execution_count": 1,
   "metadata": {
    "collapsed": true
   },
   "outputs": [],
   "source": [
    "%matplotlib inline"
   ]
  },
  {
   "cell_type": "code",
   "execution_count": 2,
   "metadata": {
    "collapsed": true
   },
   "outputs": [],
   "source": [
    "import pymysql\n",
    "import pandas as pd\n",
    "import numpy as np\n",
    "import re\n",
    "import matplotlib.pyplot as plt\n",
    "import ipywidgets as widgets"
   ]
  },
  {
   "cell_type": "code",
   "execution_count": 3,
   "metadata": {
    "collapsed": true
   },
   "outputs": [],
   "source": [
    "from ipywidgets import interact, interactive, fixed\n",
    "from IPython.display import display, clear_output, HTML\n",
    "\n",
    "from project import DiseaseFrame\n",
    "from project import calc_gfr"
   ]
  },
  {
   "cell_type": "code",
   "execution_count": 4,
   "metadata": {
    "collapsed": true
   },
   "outputs": [],
   "source": [
    "conn = pymysql.connect(host=\"mysql\",\n",
    "                       port=3306, user=\"jovyan\",\n",
    "                       passwd=\"\", db='mimic2')\n"
   ]
  },
  {
   "cell_type": "markdown",
   "metadata": {},
   "source": [
    "### Choose disease from the dropdown menu to create a venn diagram of the selected comorbidities for all the patients with a diagnosis of CKD"
   ]
  },
  {
   "cell_type": "code",
   "execution_count": 6,
   "metadata": {},
   "outputs": [
    {
     "data": {
      "application/vnd.jupyter.widget-view+json": {
       "model_id": "1c898ba1a67f430eab6b276822b5924b",
       "version_major": 2,
       "version_minor": 0
      },
      "text/plain": [
       "A Jupyter Widget"
      ]
     },
     "metadata": {},
     "output_type": "display_data"
    },
    {
     "data": {
      "application/vnd.jupyter.widget-view+json": {
       "model_id": "4bf4489930274d29b66d1a9876e76715",
       "version_major": 2,
       "version_minor": 0
      },
      "text/plain": [
       "A Jupyter Widget"
      ]
     },
     "metadata": {},
     "output_type": "display_data"
    },
    {
     "data": {
      "application/vnd.jupyter.widget-view+json": {
       "model_id": "0553b02b083a4b3299551e864ed19205",
       "version_major": 2,
       "version_minor": 0
      },
      "text/plain": [
       "A Jupyter Widget"
      ]
     },
     "metadata": {},
     "output_type": "display_data"
    },
    {
     "data": {
      "application/vnd.jupyter.widget-view+json": {
       "model_id": "2776716655134fc9ba170e6eaa2f0ae3",
       "version_major": 2,
       "version_minor": 0
      },
      "text/plain": [
       "A Jupyter Widget"
      ]
     },
     "metadata": {},
     "output_type": "display_data"
    },
    {
     "data": {
      "image/png": "[encoded data removed]",
      "text/plain": [
       "<matplotlib.figure.Figure at 0x7fe0b633af98>"
      ]
     },
     "metadata": {},
     "output_type": "display_data"
    }
   ],
   "source": [
    "test = DiseaseFrame(conn)\n",
    "test.get_dfs()\n",
    "\n",
    "disease1 = widgets.Dropdown(options=['Heart Failure', 'Diabetes', 'Hypertension', 'Obesity', 'Drug Abuse', 'Alcohol Abuse', 'Liver Disease'], value = 'Diabetes', description = 'disease:', disabled = False)\n",
    "disease2 = widgets.Dropdown(options=['Heart Failure', 'Diabetes', 'Hypertension', 'Obesity', 'Drug Abuse', 'Alcohol Abuse', 'Liver Disease'], value = 'Heart Failure', description = 'disease:', disabled = False)\n",
    "disease3 = widgets.Dropdown(options=['Heart Failure', 'Diabetes', 'Hypertension', 'Obesity', 'Drug Abuse', 'Alcohol Abuse', 'Liver Disease'], value = 'Hypertension', description = 'disease:', disabled = False)\n",
    "button = widgets.Button(description=\"Create Venn\")\n",
    "\n",
    "display(disease1, disease2, disease3, button)\n",
    "\n",
    "def on_button_clicked(b):\n",
    "    clear_output()\n",
    "    display(disease1, disease2, disease3, button)\n",
    "    tmp = test.create_venn(disease1.value, disease2.value, disease3.value)\n",
    "        \n",
    "\n",
    "button.on_click(on_button_clicked)"
   ]
  },
  {
   "cell_type": "code",
   "execution_count": 7,
   "metadata": {},
   "outputs": [
    {
     "data": {
      "application/vnd.jupyter.widget-view+json": {
       "model_id": "c80b663933d0481086ff6c0c90d6f1b1",
       "version_major": 2,
       "version_minor": 0
      },
      "text/plain": [
       "A Jupyter Widget"
      ]
     },
     "metadata": {},
     "output_type": "display_data"
    },
    {
     "data": {
      "application/vnd.jupyter.widget-view+json": {
       "model_id": "1e35ba8741f7481f944f16b132472d02",
       "version_major": 2,
       "version_minor": 0
      },
      "text/plain": [
       "A Jupyter Widget"
      ]
     },
     "metadata": {},
     "output_type": "display_data"
    },
    {
     "data": {
      "application/vnd.jupyter.widget-view+json": {
       "model_id": "84c183eeef2e407787a5220c3d6d5b6a",
       "version_major": 2,
       "version_minor": 0
      },
      "text/plain": [
       "A Jupyter Widget"
      ]
     },
     "metadata": {},
     "output_type": "display_data"
    },
    {
     "data": {
      "application/vnd.jupyter.widget-view+json": {
       "model_id": "a59a74348fb64fd0847a1674b561cadb",
       "version_major": 2,
       "version_minor": 0
      },
      "text/plain": [
       "A Jupyter Widget"
      ]
     },
     "metadata": {},
     "output_type": "display_data"
    },
    {
     "data": {
      "application/vnd.jupyter.widget-view+json": {
       "model_id": "22fc1e2644f94e7fb6f8743e5a301a3f",
       "version_major": 2,
       "version_minor": 0
      },
      "text/plain": [
       "A Jupyter Widget"
      ]
     },
     "metadata": {},
     "output_type": "display_data"
    },
    {
     "data": {
      "application/vnd.jupyter.widget-view+json": {
       "model_id": "c49558c82ae34fbd8c7ff31d715fe22c",
       "version_major": 2,
       "version_minor": 0
      },
      "text/plain": [
       "A Jupyter Widget"
      ]
     },
     "metadata": {},
     "output_type": "display_data"
    },
    {
     "name": "stdout",
     "output_type": "stream",
     "text": [
      "35.54\n"
     ]
    }
   ],
   "source": [
    "caption = widgets.Label(value='Input followings to calculate Glomerular Filteration Rate (GFR)')\n",
    "\n",
    "scr = widgets.BoundedFloatText(value=2.0, min=0, max=5, step=0.1, description='Creatinine:', disabled=False)\n",
    "\n",
    "age = widgets.BoundedFloatText(value=50, min=1, max=90, step=1, description='Age:', disabled=False)\n",
    "\n",
    "gender = widgets.Dropdown(options=[' ', 'F', 'M'], value=' ', description='Gender:', disabled=False)\n",
    "\n",
    "ethnicity = widgets.Dropdown(options=[' ', 'Caucasian', 'African American', 'Asian', 'Others'], value=' ',\\\n",
    "                                description='Ethnicity:', disabled=False)\n",
    "\n",
    "button = widgets.Button(description=\"Calculate GFR\")\n",
    "\n",
    "\n",
    "display(caption, scr, age, gender, ethnicity, button)\n",
    "\n",
    "def on_button_clicked(b):\n",
    "    clear_output()   \n",
    "    display(caption, scr, age, gender, ethnicity, button)\n",
    "    print(calc_gfr(scr.value, age.value, gender.value, ethnicity.value))\n",
    "        \n",
    "\n",
    "button.on_click(on_button_clicked)"
   ]
  },
  {
   "cell_type": "markdown",
   "metadata": {},
   "source": [
    "## Query: Identifying CKD Patients by ICD9 Codes"
   ]
  },
  {
   "cell_type": "code",
   "execution_count": 8,
   "metadata": {},
   "outputs": [
    {
     "data": {
      "text/html": [
       "<div>\n",
       "<table border=\"1\" class=\"dataframe\">\n",
       "  <thead>\n",
       "    <tr style=\"text-align: right;\">\n",
       "      <th></th>\n",
       "      <th>COUNT(*)</th>\n",
       "    </tr>\n",
       "  </thead>\n",
       "  <tbody>\n",
       "    <tr>\n",
       "      <th>0</th>\n",
       "      <td>4000</td>\n",
       "    </tr>\n",
       "  </tbody>\n",
       "</table>\n",
       "</div>"
      ],
      "text/plain": [
       "   COUNT(*)\n",
       "0      4000"
      ]
     },
     "execution_count": 8,
     "metadata": {},
     "output_type": "execute_result"
    }
   ],
   "source": [
    "DiseaseFrame(conn).count_total_pt()"
   ]
  },
  {
   "cell_type": "code",
   "execution_count": 9,
   "metadata": {},
   "outputs": [],
   "source": [
    "icd9_codes = DiseaseFrame(conn).count_icd9()"
   ]
  },
  {
   "cell_type": "markdown",
   "metadata": {},
   "source": [
    "<h4>There are 4000 total patients in MIMIC II database.  Out of 4000 patients, 328 patients have a diagnosis of CKD based on ICD9 codes.</h4>\n",
    "<p>The description for the ICD9 codes are not available for all the CKD stages in MIMIC II database <br>\n",
    "   They have a description of \"None\".<br>\n",
    "</p>\n",
    "<h4> Below is the list of frequency of each diagnosis by the ICD9 codes.</h4>"
   ]
  },
  {
   "cell_type": "markdown",
   "metadata": {},
   "source": [
    "<h4> Since it is the ICU data, most diagnosis is either \"unspecified CKD\" or \"ESRD\".</h4>\n",
    "<p>Below is a bar graph showing the distribution each ICD9 codes for CKD</p>"
   ]
  },
  {
   "cell_type": "code",
   "execution_count": null,
   "metadata": {},
   "outputs": [],
   "source": [
    "icd9_counts = icd9_codes[\"code\"].value_counts().to_frame(name=\"ICD9 Counts\")\n",
    "icd9_counts.sort_values(by=\"ICD9 Counts\")\n",
    "icd9_counts.plot(kind='bar', title ='Occurence of CKD based on ICD9 code')"
   ]
  },
  {
   "cell_type": "code",
   "execution_count": 10,
   "metadata": {},
   "outputs": [
    {
     "data": {
      "text/html": [
       "<div>\n",
       "<table border=\"1\" class=\"dataframe\">\n",
       "  <thead>\n",
       "    <tr style=\"text-align: right;\">\n",
       "      <th></th>\n",
       "      <th>itemid</th>\n",
       "      <th>COUNT(itemid)</th>\n",
       "    </tr>\n",
       "  </thead>\n",
       "  <tbody>\n",
       "    <tr>\n",
       "      <th>0</th>\n",
       "      <td>791</td>\n",
       "      <td>44843</td>\n",
       "    </tr>\n",
       "    <tr>\n",
       "      <th>1</th>\n",
       "      <td>1525</td>\n",
       "      <td>31855</td>\n",
       "    </tr>\n",
       "    <tr>\n",
       "      <th>2</th>\n",
       "      <td>3750</td>\n",
       "      <td>59</td>\n",
       "    </tr>\n",
       "  </tbody>\n",
       "</table>\n",
       "</div>"
      ],
      "text/plain": [
       "   itemid  COUNT(itemid)\n",
       "0     791          44843\n",
       "1    1525          31855\n",
       "2    3750             59"
      ]
     },
     "execution_count": 10,
     "metadata": {},
     "output_type": "execute_result"
    }
   ],
   "source": [
    "DiseaseFrame(conn).get_creatinine_count().head()"
   ]
  },
  {
   "cell_type": "markdown",
   "metadata": {},
   "source": [
    "<p> Only the below itemids are used in the charting for the creatinine values:\n",
    "<ul>\n",
    "    <li>791 - Creatinine (0-1.3) Chemistry </li>\n",
    "    <li>1525 - Creatinine Chemistry</li>\n",
    "    <li>3750 - Creatinine (0-0.7) Chemistry</li>\n",
    "</ul> \n",
    "</p>"
   ]
  },
  {
   "cell_type": "markdown",
   "metadata": {},
   "source": [
    "#### Look for the missing values of creatinine and drop the missing data"
   ]
  },
  {
   "cell_type": "code",
   "execution_count": 11,
   "metadata": {},
   "outputs": [
    {
     "data": {
      "text/plain": [
       "<bound method DiseaseFrame.get_all_creatinine_ckd_patient_cleaned of {}>"
      ]
     },
     "execution_count": 11,
     "metadata": {},
     "output_type": "execute_result"
    }
   ],
   "source": [
    "DiseaseFrame(conn).get_all_creatinine_ckd_patient_cleaned"
   ]
  },
  {
   "cell_type": "markdown",
   "metadata": {
    "collapsed": true
   },
   "source": [
    "#### We had total of 10361 rows for creatinine values, after dropping the missing values we have 10357 rows, (only 4 missing values for creatinine.)"
   ]
  },
  {
   "cell_type": "markdown",
   "metadata": {},
   "source": [
    "<h3> Reading in an extracted excel file from the MIMIC II database </h3>\n",
    "<p> Excel sheet has 2100 data for the randomly choosen patients with their <br>\n",
    "ID, gender, ethnicity, age, serum creatinine value and unit of Creatinine </p>"
   ]
  },
  {
   "cell_type": "code",
   "execution_count": null,
   "metadata": {},
   "outputs": [],
   "source": [
    "gfr_calc_info = pd.read_excel('gfr_calc_info.xlsx')\n",
    "gfr_calc_info.head()"
   ]
  },
  {
   "cell_type": "code",
   "execution_count": null,
   "metadata": {},
   "outputs": [],
   "source": [
    "gfr_calc_info = gfr_calc_info.dropna()\n",
    "gfr_calc_info = gfr_calc_info.drop(['VALUEUOM'], axis=1)\n",
    "gfr_calc_info.head()"
   ]
  },
  {
   "cell_type": "code",
   "execution_count": null,
   "metadata": {},
   "outputs": [],
   "source": [
    "lst_egfr = []\n",
    "for index, row in gfr_calc_info.iterrows():\n",
    "    lst_egfr.append(calc_gfr(row['VALUENUM'], row['AGE'], row['GENDER'], row['ETHNICITY']))\n",
    "\n",
    "gfr_calc_info['GFR'] = pd.Series(lst_egfr, index=gfr_calc_info.index)\n",
    "\n",
    "gfr_calc_info.head()"
   ]
  },
  {
   "cell_type": "markdown",
   "metadata": {},
   "source": [
    "### Finding mean age of CKD patients"
   ]
  },
  {
   "cell_type": "code",
   "execution_count": null,
   "metadata": {},
   "outputs": [],
   "source": [
    "DiseaseFrame(conn).get_mean_age()"
   ]
  },
  {
   "cell_type": "code",
   "execution_count": null,
   "metadata": {},
   "outputs": [],
   "source": [
    "ckd_age = DiseaseFrame(conn).get_ckd_age()\n",
    "ckd_age.plot(kind='kde', xlim=[10, 110])"
   ]
  },
  {
   "cell_type": "code",
   "execution_count": null,
   "metadata": {},
   "outputs": [],
   "source": [
    "gender = DiseaseFrame(conn).get_patient_info() \n",
    "gender_counts = gender[\"sex\"].value_counts().to_frame(name=\"Gender Counts\")\n",
    "gender_counts.sort_values(by=\"Gender Counts\")\n",
    "gender_counts.plot(kind='bar', title=\"Occurence of CKD by Gender\")"
   ]
  },
  {
   "cell_type": "code",
   "execution_count": null,
   "metadata": {},
   "outputs": [],
   "source": [
    "ethnicity = DiseaseFrame(conn).get_ckd_ethnictiy()\n",
    "ethnicity_counts = ethnicity[\"ethnicity_descr\"].value_counts().to_frame(name=\"Ethnicity Counts\")\n",
    "ethnicity_counts.sort_values(by=\"Ethnicity Counts\")\n",
    "ethnicity_counts.plot(kind='bar', title=\"Occurence of CKD by Ethnicity\")"
   ]
  },
  {
   "cell_type": "code",
   "execution_count": null,
   "metadata": {
    "collapsed": true
   },
   "outputs": [],
   "source": []
  }
 ],
 "metadata": {
  "kernelspec": {
   "display_name": "Python 3",
   "language": "python",
   "name": "python3"
  },
  "language_info": {
   "codemirror_mode": {
    "name": "ipython",
    "version": 3
   },
   "file_extension": ".py",
   "mimetype": "text/x-python",
   "name": "python",
   "nbconvert_exporter": "python",
   "pygments_lexer": "ipython3",
   "version": "3.5.2"
  }
 },
 "nbformat": 4,
 "nbformat_minor": 2
}
