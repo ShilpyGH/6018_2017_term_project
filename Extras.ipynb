{
 "cells": [
  {
   "cell_type": "code",
   "execution_count": null,
   "metadata": {
    "collapsed": true
   },
   "outputs": [],
   "source": [
    "item_creat_chart = pd.read_sql(' SELECT itemid, label, description FROM d_chartitems WHERE label like \"%creati%\"', conn)\n",
    "item_creat_chart"
   ]
  },
  {
   "cell_type": "code",
   "execution_count": null,
   "metadata": {
    "collapsed": true
   },
   "outputs": [],
   "source": [
    "item_creat_lab = pd.read_sql(' SELECT itemid, test_name FROM d_labitems WHERE test_name like \"%creati%\"', conn)\n",
    "item_creat_lab"
   ]
  },
  {
   "cell_type": "code",
   "execution_count": null,
   "metadata": {
    "collapsed": true
   },
   "outputs": [],
   "source": [
    "bun_table = bun_ckd.drop('hadm_id', axis=1).\\\n",
    "            drop('icustay_id', axis=1).drop('value', axis=1).drop('flag', axis=1).drop('valueuom', axis=1)"
   ]
  },
  {
   "cell_type": "code",
   "execution_count": null,
   "metadata": {
    "collapsed": true
   },
   "outputs": [],
   "source": [
    "<h2> Selecting the creatinine values for the patients with CKD </h2>\n",
    "<p>In the MIMIC II dictionary the ITEMID's associated with the creatinine are as follows:\n",
    "<ul>\n",
    "    <li>17 - APS Serum Creatinine</li>\n",
    "    <li>791 - Creatinine (0-1.3) Chemistry</li>\n",
    "    <li>1129 - ZCreatinine (0-1.3) Chemistry</li>\n",
    "    <li>1525 - Creatinine Chemistry</li>\n",
    "    <li>2975 - URINE CREATININE</li>\n",
    "    <li>3750 - Creatinine (0-0.7)\tChemistry</li>\n",
    "    <li>5525 - Lytes BUN creatinine\t</li>\n",
    "    <li>5811 - urine creatinine</li>    \n",
    "</ul>\n",
    "</p>"
   ]
  },
  {
   "cell_type": "code",
   "execution_count": 2,
   "metadata": {
    "collapsed": true
   },
   "outputs": [],
   "source": [
    "### Making a dictionary for the CKD related ICD9 codes and for itemid for the various creatinine"
   ]
  },
  {
   "cell_type": "code",
   "execution_count": null,
   "metadata": {
    "collapsed": true
   },
   "outputs": [],
   "source": [
    "dic_ckd_icd = {\"585.9\":\"unspecified\", \\\n",
    "               \"585.1\": \"Stage I\", \\\n",
    "               \"585.2\": \"Stage II\", \\\n",
    "               \"585.3\": \"Stage III\", \\\n",
    "               \"585.4\": \"Stage IV\", \\\n",
    "               \"585.5\": \"Stage V\", \\\n",
    "               \"585.6\": \"End-Stage Renal Disease\"}\n",
    "\n",
    "dic_itemid_desc = {\"17\":\"Serum Creatinine\", \\\n",
    "                   \"791\":\"Creatinine (0-1.3)\", \\\n",
    "                   \"1129\":\"ZCreatinine (0-1.3)\", \\\n",
    "                   \"1525\":\"Creatinine Chemistry\", \\\n",
    "                   \"2975\":\"URINE CREATININE\", \\\n",
    "                   \"3750\":\"Creatinine (0-0.7)\", \\\n",
    "                   \"5525\":\"Lytes BUN creatinine\", \\\n",
    "                   \"5811\":\" urine creatinine\"}"
   ]
  },
  {
   "cell_type": "code",
   "execution_count": null,
   "metadata": {
    "collapsed": true
   },
   "outputs": [],
   "source": [
    "set_obesity = \\\n",
    "pd.read_sql('SELECT DISTINCT(subject_id) \\\n",
    "            FROM comorbidity_scores WHERE subject_id \\\n",
    "            IN (SELECT DISTINCT(subject_id) FROM icd9 WHERE code IN \\\n",
    "                        (\"585.9\", \"585.1\", \"585.2\", \"585.3\", \"585.4\", \"585.5\", \"585.6\" ) AND obesity = 1.0)', conn)\n",
    "set_obesity = set_obesity['subject_id'].tolist()\n"
   ]
  },
  {
   "cell_type": "code",
   "execution_count": null,
   "metadata": {
    "collapsed": true
   },
   "outputs": [],
   "source": [
    "set_drug_abuse = \\\n",
    "pd.read_sql('SELECT DISTINCT(subject_id) \\\n",
    "            FROM comorbidity_scores WHERE subject_id \\\n",
    "            IN (SELECT DISTINCT(subject_id) FROM icd9 WHERE code IN \\\n",
    "                        (\"585.9\", \"585.1\", \"585.2\", \"585.3\", \"585.4\", \"585.5\", \"585.6\" ) AND drug_abuse = 1.0)', conn)\n",
    "set_drug_abuse = set_drug_abuse['subject_id'].tolist()\n"
   ]
  },
  {
   "cell_type": "code",
   "execution_count": null,
   "metadata": {
    "collapsed": true
   },
   "outputs": [],
   "source": [
    "set_alcohol_abuse = \\\n",
    "pd.read_sql('SELECT DISTINCT(subject_id) \\\n",
    "            FROM comorbidity_scores WHERE subject_id \\\n",
    "            IN (SELECT DISTINCT(subject_id) FROM icd9 WHERE code IN \\\n",
    "                        (\"585.9\", \"585.1\", \"585.2\", \"585.3\", \"585.4\", \"585.5\", \"585.6\" ) AND alcohol_abuse = 1.0)', conn)\n",
    "set_alcohol_abuse = set_alcohol_abuse['subject_id'].tolist()\n"
   ]
  },
  {
   "cell_type": "code",
   "execution_count": null,
   "metadata": {
    "collapsed": true
   },
   "outputs": [],
   "source": [
    "set_liver_disease = \\\n",
    "pd.read_sql('SELECT DISTINCT(subject_id) \\\n",
    "            FROM comorbidity_scores WHERE subject_id \\\n",
    "            IN (SELECT DISTINCT(subject_id) FROM icd9 WHERE code IN \\\n",
    "                        (\"585.9\", \"585.1\", \"585.2\", \"585.3\", \"585.4\", \"585.5\", \"585.6\" ) AND liver_disease = 1.0)', conn)\n",
    "set_liver_disease = set_liver_disease['subject_id'].tolist()"
   ]
  },
  {
   "cell_type": "code",
   "execution_count": null,
   "metadata": {
    "collapsed": true
   },
   "outputs": [],
   "source": [
    "set_obesity = set(set_obesity)\n",
    "set_drug_abuse = set(set_drug_abuse)\n",
    "set_alcohol_abuse = set(set_alcohol_abuse)\n",
    "set_liver_disease = set(set_liver_disease)\n"
   ]
  },
  {
   "cell_type": "code",
   "execution_count": null,
   "metadata": {
    "collapsed": true
   },
   "outputs": [],
   "source": [
    "calc_gfr(gfr_calc_info['VALUENUM'], gfr_calc_info['AGE'], gfr_calc_info['GENDER'], gfr_calc_info['ETHNICITY']) "
   ]
  },
  {
   "cell_type": "code",
   "execution_count": null,
   "metadata": {
    "collapsed": true
   },
   "outputs": [],
   "source": [
    "def calc_ccr(gender, age, weight, scr):\n",
    "    \"\"\"\n",
    "    This function calcualtes the creatinine clearance based on the \"Cockcroft and Gault formula (1973)\"\n",
    "    CCr = {((140–age) x weight)/(72xSCr)}x 0.85 (if female)\n",
    "    \n",
    "    Arguments: \n",
    "        gender: Patient's gender \"male\" or \"female\" as string\n",
    "        age: Patient's age in years as integer\n",
    "        weight: Patient's weight in kg as float\n",
    "        scr: Patient's serum creatinine level in mg/dL as float\n",
    "        \n",
    "    Returns: \n",
    "        ccr: Patient's creatinine clearance in mL/min as float rounded to two decimal numbers.                       \n",
    "    \"\"\"\n",
    "    \n",
    "    if gender == 'female':\n",
    "        ccr = round(((((140-age) * weight)/(72*scr))* 0.85), 2) \n",
    "    else: \n",
    "        ccr = round((((140-age) * weight)/(72*scr)), 2)\n",
    "    return ccr"
   ]
  },
  {
   "cell_type": "code",
   "execution_count": null,
   "metadata": {
    "collapsed": true
   },
   "outputs": [],
   "source": [
    "def widget_plot(scr, age, weight):\n",
    "    plt.figure(2)\n",
    "    x = np.linspace(-1, 5, num=10)\n",
    "    y = round((((140-age) * weight)/(72*scr)),0)\n",
    "    plt.plot(x, y)\n",
    "    plt.ylim(-1, 1)\n",
    "    plt.show()\n",
    "\n",
    "interactive_plot = interactive(widget_plot, scr=(-2.0, 3.0), age=(50, 80), weight=(90.0, 300.0))\n",
    "output = interactive_plot.children[-1]\n",
    "output.layout.height = '350px'\n",
    "interactive_plot"
   ]
  },
  {
   "cell_type": "code",
   "execution_count": null,
   "metadata": {
    "collapsed": true
   },
   "outputs": [],
   "source": [
    "class Person:\n",
    "\n",
    "    def __init__(self, first, last):\n",
    "        self.firstname = first\n",
    "        self.lastname = last\n",
    "\n",
    "    def Name(self):\n",
    "        return self.firstname + \" \" + self.lastname\n",
    "\n",
    "class Employee(Person):\n",
    "\n",
    "    def __init__(self, first, last, staffnum):\n",
    "        Person.__init__(self,first, last)\n",
    "        self.staffnumber = staffnum\n",
    "\n",
    "    def GetEmployee(self):\n",
    "        return self.Name() + \", \" +  self.staffnumber\n",
    "\n",
    "x = Person(\"Marge\", \"Simpson\")\n",
    "y = Employee(\"Homer\", \"Simpson\", \"1007\")\n",
    "\n",
    "print(x.Name())\n",
    "print(y.GetEmployee())"
   ]
  },
  {
   "cell_type": "code",
   "execution_count": null,
   "metadata": {
    "collapsed": true
   },
   "outputs": [],
   "source": [
    "class CareGivers:\n",
    "    \n",
    "\n",
    "    def __init__(self, firstname, lastname):\n",
    "        self.firstname = firstname\n",
    "        self.lastname = lastname\n",
    "\n",
    "    def get_details(self):\n",
    "         return self.firstname +\" \"+ self.lastname"
   ]
  },
  {
   "cell_type": "code",
   "execution_count": null,
   "metadata": {
    "collapsed": true
   },
   "outputs": [],
   "source": [
    "class Doctor(CareGivers):\n",
    "    \n",
    "    def __init__(self, first, last, _id1):\n",
    "        Doctor.__init__(self,first, last, _id1)\n",
    "        self._id1 = _id1\n",
    "\n",
    "    def GetEmployeeDetails(self):\n",
    "        return self.get_details() + \", \" +  self._id1"
   ]
  },
  {
   "cell_type": "code",
   "execution_count": null,
   "metadata": {
    "collapsed": true
   },
   "outputs": [],
   "source": [
    "care_giver = CareGivers('Shilpy', 'Sharma')\n",
    "\n",
    "doctor = Doctor('Shilpy','Sharma', '1')\n",
    "\n",
    "print(care_giver.get_details())\n"
   ]
  },
  {
   "cell_type": "code",
   "execution_count": null,
   "metadata": {
    "collapsed": true
   },
   "outputs": [],
   "source": [
    "print(doctor.GetEmployeeDetails())"
   ]
  },
  {
   "cell_type": "code",
   "execution_count": null,
   "metadata": {
    "collapsed": true
   },
   "outputs": [],
   "source": [
    "from matplotlib_venn import venn3_circles, venn2, venn3\n",
    "import matplotlib.pyplot as plt\n",
    "\n",
    "comorbid_ckd = \\\n",
    "pd.read_sql('SELECT DISTINCT(subject_id), congestive_heart_failure, cardiac_arrhythmias, hypertension, obesity, alcohol_abuse \\\n",
    "            drug_abuse \\\n",
    "            FROM comorbidity_scores WHERE subject_id \\\n",
    "            IN (SELECT DISTINCT(subject_id) FROM icd9 WHERE code IN \\\n",
    "                        (\"585.9\", \"585.1\", \"585.2\", \"585.3\", \"585.4\", \"585.5\", \"585.6\" ))', conn)\n",
    "\n",
    "comorbid_ckd.head()\n",
    "\n",
    "heart_failure = \\\n",
    "pd.read_sql('SELECT DISTINCT(subject_id) \\\n",
    "            FROM comorbidity_scores WHERE subject_id \\\n",
    "            IN (SELECT DISTINCT(subject_id) FROM icd9 WHERE code IN \\\n",
    "                        (\"585.9\", \"585.1\", \"585.2\", \"585.3\", \"585.4\", \"585.5\", \"585.6\" ) AND congestive_heart_failure = 1.0)', conn)\n",
    "\n",
    "heart_failure = heart_failure['subject_id'].tolist()\n",
    "\n",
    "diabetes = \\\n",
    "pd.read_sql('SELECT DISTINCT(subject_id) \\\n",
    "            FROM comorbidity_scores WHERE subject_id \\\n",
    "            IN (SELECT DISTINCT(subject_id) FROM icd9 WHERE code IN \\\n",
    "                        (\"585.9\", \"585.1\", \"585.2\", \"585.3\", \"585.4\", \"585.5\", \"585.6\" ) AND \\\n",
    "                        (diabetes_uncomplicated = 1.0 OR diabetes_complicated = 1.0))', conn)\n",
    "\n",
    "diabetes = diabetes['subject_id'].tolist()\n",
    "\n",
    "hypertension = \\\n",
    "pd.read_sql('SELECT DISTINCT(subject_id) \\\n",
    "            FROM comorbidity_scores WHERE subject_id \\\n",
    "            IN (SELECT DISTINCT(subject_id) FROM icd9 WHERE code IN \\\n",
    "                        (\"585.9\", \"585.1\", \"585.2\", \"585.3\", \"585.4\", \"585.5\", \"585.6\" ) AND hypertension = 1.0)', conn)\n",
    "\n",
    "hypertension = hypertension['subject_id'].tolist()\n",
    "\n",
    "set_heart_failure = set(heart_failure)\n",
    "set_diabetes = set(diabetes)\n",
    "set_hypertension = set(hypertension)\n",
    "\n",
    "\n",
    "venn3(subsets = (set_heart_failure, set_diabetes,set_hypertension), set_labels = ('Heart Failure', 'Diabetes', 'Hypertension'))\n"
   ]
  },
  {
   "cell_type": "code",
   "execution_count": null,
   "metadata": {
    "collapsed": true
   },
   "outputs": [],
   "source": [
    "tmp = test.get_venn(\"Heart Failure\", \"Diabetes\", \"Hypertension\")\n",
    "tmp = test.get_venn(\"Obesity\", \"Drug Abuse\", \"Alcohol Abuse\")"
   ]
  },
  {
   "cell_type": "markdown",
   "metadata": {},
   "source": [
    "### Looking for all the tables that exists in the MIMIC II database"
   ]
  },
  {
   "cell_type": "code",
   "execution_count": null,
   "metadata": {
    "collapsed": true
   },
   "outputs": [],
   "source": [
    "tables = pd.read_sql(\"\"\"SHOW TABLES\"\"\", conn)\n",
    "tables[\"Tables_in_mimic2\"]"
   ]
  },
  {
   "cell_type": "markdown",
   "metadata": {},
   "source": [
    "### SHOW COLUMNS to look at the columns in a table"
   ]
  },
  {
   "cell_type": "code",
   "execution_count": null,
   "metadata": {
    "collapsed": true
   },
   "outputs": [],
   "source": [
    "from IPython.display import display, HTML\n",
    "\n",
    "sql_queries = [(t,\"SHOW COLUMNS FROM %s\"%t) for t in tables[\"Tables_in_mimic2\"]]\n",
    "for q in sql_queries:\n",
    "    display(HTML(\"<h2>%s</h2>\"%q[0]))\n",
    "    display(HTML(pd.read_sql(q[1], conn).to_html()))"
   ]
  },
  {
   "cell_type": "code",
   "execution_count": null,
   "metadata": {
    "collapsed": true
   },
   "outputs": [],
   "source": [
    "gfr_calc_info = pd.read_excel('gfr_calc_info.xlsx')\n",
    "gfr_calc_info.dropna()"
   ]
  },
  {
   "cell_type": "markdown",
   "metadata": {},
   "source": [
    "### Use regular expression to separate ethnicity if it is \"BLACK/AFRICAN AMERICAN\" to \"AFRICAN AMERICAN\""
   ]
  },
  {
   "cell_type": "code",
   "execution_count": null,
   "metadata": {
    "collapsed": true
   },
   "outputs": [],
   "source": [
    "def replace_black(excel_file):\n",
    "    \"\"\"\n",
    "    This function replaces all the ethnicity that is maked \"BLACK/AFRICAN AMERICAN\" to \"AFRICAN AMERICAN\"\n",
    "    Argument:  excel_file - to extract the column\n",
    "    Returns: excel_file - with ethnicity replaced.\n",
    "    \"\"\"\n",
    "    "
   ]
  },
  {
   "cell_type": "code",
   "execution_count": null,
   "metadata": {
    "collapsed": true
   },
   "outputs": [],
   "source": [
    "import ipywidgets as widgets\n",
    "from IPython.display import display, clear_output, HTML\n",
    "\n",
    "from ipywidgets import interact, interactive, fixed"
   ]
  },
  {
   "cell_type": "code",
   "execution_count": null,
   "metadata": {
    "collapsed": true
   },
   "outputs": [],
   "source": [
    "ckd_age_counts = ckd_age[\"age_years\"].value_counts().to_frame(name=\"Age Counts\")\n",
    "ckd_age_counts.sort_values(by=\"Age Counts\")\n",
    "ckd_age_counts.plot(kind='bar', title='Occurence of CKD based on age')"
   ]
  },
  {
   "cell_type": "code",
   "execution_count": null,
   "metadata": {
    "collapsed": true
   },
   "outputs": [],
   "source": [
    "eth = pd.read_sql(\"SELECT DISTINCT(subject_id) FROM demographic_detail WHERE subject_id \\\n",
    "                            IN (SELECT DISTINCT(subject_id) FROM icd9\\\n",
    "                            WHERE code IN \\\n",
    "                            ('585.9', '585.1', '585.2', '585.3', '585.4', '585.5' \\\n",
    "                            '585.6'))\", conn)"
   ]
  },
  {
   "cell_type": "code",
   "execution_count": null,
   "metadata": {
    "collapsed": true
   },
   "outputs": [],
   "source": [
    "eth = pd.read_sql('SELECT * FROM icd9 WHERE code IN \\\n",
    "                (\"585.9\", \"585.1\", \"585.2\", \"585.3\", \"585.4\", \"585.5\",\\\n",
    "                \"585.6\" )', conn) "
   ]
  },
  {
   "cell_type": "code",
   "execution_count": null,
   "metadata": {
    "collapsed": true
   },
   "outputs": [],
   "source": [
    "eth = pd.read_sql(\"SELECT itemid, label FROM d_demographicitems WHERE category='ETHNICITY'\", conn)\n",
    "eth.head()\n",
    "\n",
    "eth = pd.read_sql(\"SELECT * FROM demographic_detail\", conn)\n",
    "eth"
   ]
  },
  {
   "cell_type": "code",
   "execution_count": null,
   "metadata": {
    "collapsed": true
   },
   "outputs": [],
   "source": [
    "eth = pd.read_sql(\"SELECT DISTINCT(subject_id), ethnicity_descr FROM demographic_detail  \\\n",
    "                WHERE ethnicity_descr IN ('WHITE', 'BLACK/AFRICAN AMERICAN', 'ASIAN', 'OTHER')  \\\n",
    "                AND subject_id \\\n",
    "                            IN (SELECT DISTINCT(subject_id) FROM icd9\\\n",
    "                            WHERE code IN \\\n",
    "                            ('585.9', '585.1', '585.2', '585.3', '585.4', '585.5' \\\n",
    "                            '585.6'))\", conn)\n",
    "eth.head()"
   ]
  },
  {
   "cell_type": "code",
   "execution_count": null,
   "metadata": {
    "collapsed": true
   },
   "outputs": [],
   "source": [
    "from project import DiseaseFrame\n",
    "test = DiseaseFrame(conn)\n",
    "\n",
    "test.get_dfs()\n"
   ]
  },
  {
   "cell_type": "code",
   "execution_count": null,
   "metadata": {
    "collapsed": true
   },
   "outputs": [],
   "source": [
    "from ipywidgets import interact, interactive, fixed\n",
    "from IPython.display import clear_output\n",
    "import ipywidgets as widgets\n",
    "import matplotlib.pyplot as plt\n",
    "\n",
    "import ipywidgets as widgets\n",
    "from IPython.display import display, clear_output, HTML\n",
    "from ipywidgets import interact, interactive, fixed\n",
    "\n",
    "from project import DiseaseFrame"
   ]
  },
  {
   "cell_type": "code",
   "execution_count": null,
   "metadata": {
    "collapsed": true
   },
   "outputs": [],
   "source": [
    "icd9_codes[\"code\"].value_counts(normalize=False)"
   ]
  },
  {
   "cell_type": "code",
   "execution_count": null,
   "metadata": {
    "collapsed": true
   },
   "outputs": [],
   "source": [
    "# subject_info = pd.read_sql(' SELECT subject_id, sex, dob FROM d_patients', conn)  subject_info.head()\n",
    "DiseaseFrame(conn).get_patient_info().head()"
   ]
  },
  {
   "cell_type": "code",
   "execution_count": null,
   "metadata": {
    "collapsed": true
   },
   "outputs": [],
   "source": [
    "#123456789#123456789#123456789#123456789#123456789#123456789#123456789#12345678"
   ]
  }
 ],
 "metadata": {
  "kernelspec": {
   "display_name": "Python 3",
   "language": "python",
   "name": "python3"
  },
  "language_info": {
   "codemirror_mode": {
    "name": "ipython",
    "version": 3
   },
   "file_extension": ".py",
   "mimetype": "text/x-python",
   "name": "python",
   "nbconvert_exporter": "python",
   "pygments_lexer": "ipython3",
   "version": "3.5.2"
  }
 },
 "nbformat": 4,
 "nbformat_minor": 2
}
